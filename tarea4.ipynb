{
 "cells": [
  {
   "cell_type": "markdown",
   "metadata": {},
   "source": [
    "# Tasca 4: Pràctica amb programació numèrica"
   ]
  },
  {
   "cell_type": "markdown",
   "metadata": {},
   "source": [
    "## Exercici 1\n",
    "Crea una funció que donat un Array d’una dimensió, et faci un resum estadístic bàsic de les dades. Si detecta que l’array té més d’una dimensió, ha de mostrar un missatge d’error."
   ]
  },
  {
   "cell_type": "code",
   "execution_count": null,
   "metadata": {},
   "outputs": [],
   "source": [
    "import numpy as np\n",
    "\n",
    "def estadisticos(array,imprimir=True):\n",
    "    ''' La función estadisticos devuelve un diccionario con los principales estadísticos. \n",
    "     Si quieres verlos impresos en pantalla, llama la funcion con el parámetro imprimir = True'''\n",
    "    if array.ndim!=1:\n",
    "        print('Tienes que introducir un array de una dimensión, gracias.')\n",
    "        return None\n",
    "    else:\n",
    "        resumen= {'media':np.mean(array),\n",
    "            'varianza': np.var(array), \n",
    "            'Desviacion estandard':np.std(array), \n",
    "            'Minimo':np.min(array),\n",
    "            '1er Cuartil':np.percentile(array,25),\n",
    "            'Mediana':np.median(array),\n",
    "            '3er Cuartil':np.percentile(array,75),\n",
    "            'Maximo':np.max(array)}\n",
    "        if imprimir:\n",
    "            for i,j in resumen.items():\n",
    "                print(i,': ',j)\n",
    "    \n",
    "    return resumen"
   ]
  },
  {
   "cell_type": "code",
   "execution_count": null,
   "metadata": {},
   "outputs": [],
   "source": [
    "x=np.random.normal(0,1,(50))\n",
    "y=np.arange(50)\n",
    "z=y.reshape(25,2)"
   ]
  },
  {
   "cell_type": "code",
   "execution_count": null,
   "metadata": {},
   "outputs": [],
   "source": [
    "estadisticos(x)\n",
    "estadisticos(y,imprimir=False)\n",
    "estadisticos(z)"
   ]
  },
  {
   "cell_type": "markdown",
   "metadata": {},
   "source": [
    "## Exercici 2\n",
    "Crea una funció que et generi un quadrat NxN de nombres aleatoris entre el 0 i el 100."
   ]
  },
  {
   "cell_type": "code",
   "execution_count": null,
   "metadata": {},
   "outputs": [],
   "source": [
    "def matriz_cuadrada(N):\n",
    "    return np.random.randint(0,100,size=(N,N))"
   ]
  },
  {
   "cell_type": "code",
   "execution_count": null,
   "metadata": {},
   "outputs": [],
   "source": [
    "matriz_cuadrada(10)"
   ]
  },
  {
   "cell_type": "markdown",
   "metadata": {},
   "source": [
    "## Exercici 3\n",
    "Crea una funció que donada una taula de dues dimensions, et calculi els totals per fila i els totals per columna."
   ]
  },
  {
   "cell_type": "code",
   "execution_count": null,
   "metadata": {},
   "outputs": [],
   "source": [
    "tabla=np.arange(20).reshape(5,4)\n",
    "tabla"
   ]
  },
  {
   "cell_type": "code",
   "execution_count": null,
   "metadata": {},
   "outputs": [],
   "source": [
    "suma_filas=tabla.sum(axis=1)\n",
    "suma_columnas=tabla.sum(axis=0)\n",
    "print(suma_filas)\n",
    "print(suma_columnas)"
   ]
  },
  {
   "cell_type": "markdown",
   "metadata": {},
   "source": [
    "## Exercici 4\n",
    "Implementa manualment una funció que calculi el coeficient de correlació. Informa’t-en sobre els seus usos i interpretació."
   ]
  },
  {
   "cell_type": "markdown",
   "metadata": {},
   "source": [
    "El coeficiente de correlación es una medida de la dependencia lineal de dos distribuciones. A diferencia de la covarianza, el coeficiente de correlación no depende de la escala de magnitud de las distribuciones, pudiendo tomar valores entre -1 y 1. Valores próximos a cero indican que apenas existe relación lineal entre las distribuciones, mientras que cuanto más nos acerquemos a 1 o -1 mayor dependencia lineal.\n",
    "\n",
    "Valores positivos indican que la relación es directa, es decir cuando aumenta una variable la otra también. Por otro lado, valores negativos indican una dependencia de tipo inverso, al aumentar una variable la otra disminuye.\n",
    "\n",
    "El coeficiente de regresión se calcula con la siguiente fórmula:\n",
    "\n",
    "$$ coef·R=\\frac{Cov_{XY}}{\\sqrt{Var_X·Var_Y}} $$\n"
   ]
  },
  {
   "cell_type": "code",
   "execution_count": null,
   "metadata": {},
   "outputs": [],
   "source": [
    "X=np.array([2,3,6,8,10])\n",
    "Y=np.array([4,5,10,11,15])"
   ]
  },
  {
   "cell_type": "code",
   "execution_count": null,
   "metadata": {},
   "outputs": [],
   "source": [
    "# Función que calcula manualmente el coeficiente R\n",
    "import numpy as np\n",
    "\n",
    "def coeficiente_R(X,Y):\n",
    "    Varianza_X=((X-X.mean())**2).sum()/len(X)\n",
    "    Varianza_Y=((Y-Y.mean())**2).sum()/len(Y)\n",
    "    Covarianza_XY=((X-X.mean())*(Y-Y.mean())).sum()/len(X)\n",
    "    Coef_R=Covarianza_XY/np.sqrt(Varianza_X*Varianza_Y)\n",
    "    return Coef_R"
   ]
  },
  {
   "cell_type": "code",
   "execution_count": null,
   "metadata": {},
   "outputs": [],
   "source": [
    "coeficiente_R(X,Y)"
   ]
  },
  {
   "cell_type": "code",
   "execution_count": null,
   "metadata": {},
   "outputs": [],
   "source": [
    "# Utilizando la función de numpy corrcoef que devuelve matriz de correlación\n",
    "np.corrcoef(X,Y)"
   ]
  },
  {
   "cell_type": "code",
   "execution_count": null,
   "metadata": {},
   "outputs": [],
   "source": []
  }
 ],
 "metadata": {
  "kernelspec": {
   "display_name": "Python 3",
   "language": "python",
   "name": "python3"
  },
  "language_info": {
   "codemirror_mode": {
    "name": "ipython",
    "version": 3
   },
   "file_extension": ".py",
   "mimetype": "text/x-python",
   "name": "python",
   "nbconvert_exporter": "python",
   "pygments_lexer": "ipython3",
   "version": "3.8.5"
  }
 },
 "nbformat": 4,
 "nbformat_minor": 4
}
