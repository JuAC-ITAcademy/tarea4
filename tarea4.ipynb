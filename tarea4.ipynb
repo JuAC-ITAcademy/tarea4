{
 "cells": [
  {
   "cell_type": "markdown",
   "metadata": {},
   "source": [
    "# Tasca 4: Pràctica amb programació numèrica"
   ]
  },
  {
   "cell_type": "markdown",
   "metadata": {},
   "source": [
    "## Exercici 1\n",
    "Crea una funció que donat un Array d’una dimensió, et faci un resum estadístic bàsic de les dades. Si detecta que l’array té més d’una dimensió, ha de mostrar un missatge d’error."
   ]
  },
  {
   "cell_type": "code",
   "execution_count": 1,
   "metadata": {},
   "outputs": [],
   "source": [
    "import numpy as np\n",
    "\n",
    "def estadisticos(array,imprimir=True):\n",
    "    ''' La función estadisticos devuelve un diccionario con los principales estadísticos. \n",
    "     Si quieres verlos impresos en pantalla, llama la funcion con el parámetro imprimir = True'''\n",
    "    if array.ndim!=1:\n",
    "        print('Tienes que introducir un array de una dimensión, gracias.')\n",
    "        return None\n",
    "    else:\n",
    "        resumen= {'media':np.mean(array),\n",
    "            'varianza': np.var(array), \n",
    "            'Desviacion estandard':np.std(array), \n",
    "            'Minimo':np.min(array),\n",
    "            '1er Cuartil':np.percentile(array,25),\n",
    "            'Mediana':np.median(array),\n",
    "            '3er Cuartil':np.percentile(array,75),\n",
    "            'Maximo':np.max(array)}\n",
    "        if imprimir:\n",
    "            for i,j in resumen.items():\n",
    "                print(i,': ',j)\n",
    "    \n",
    "    return resumen"
   ]
  },
  {
   "cell_type": "code",
   "execution_count": 2,
   "metadata": {},
   "outputs": [],
   "source": [
    "x=np.random.normal(0,1,(50))\n",
    "y=np.arange(50)\n",
    "z=y.reshape(25,2)"
   ]
  },
  {
   "cell_type": "code",
   "execution_count": 3,
   "metadata": {},
   "outputs": [
    {
     "name": "stdout",
     "output_type": "stream",
     "text": [
      "media :  0.01620090370558506\n",
      "varianza :  1.2428957587337397\n",
      "Desviacion estandard :  1.114852348400334\n",
      "Minimo :  -2.428059033911728\n",
      "1er Cuartil :  -0.7056545263211564\n",
      "Mediana :  0.009850953807229623\n",
      "3er Cuartil :  0.8518074347167437\n",
      "Maximo :  1.8865326371462785\n",
      "Tienes que introducir un array de una dimensión, gracias.\n"
     ]
    }
   ],
   "source": [
    "estadisticos(x)\n",
    "estadisticos(y,imprimir=False)\n",
    "estadisticos(z)"
   ]
  },
  {
   "cell_type": "markdown",
   "metadata": {},
   "source": [
    "## Exercici 2\n",
    "Crea una funció que et generi un quadrat NxN de nombres aleatoris entre el 0 i el 100."
   ]
  },
  {
   "cell_type": "code",
   "execution_count": 28,
   "metadata": {},
   "outputs": [],
   "source": [
    "def matriz_cuadrada(N):\n",
    "    return np.random.randint(0,100,size=(N,N))"
   ]
  },
  {
   "cell_type": "code",
   "execution_count": 29,
   "metadata": {},
   "outputs": [
    {
     "data": {
      "text/plain": [
       "array([[70,  3, 25, 37, 89,  1, 78, 33, 68, 47],\n",
       "       [17, 86, 55, 17, 40, 97, 22,  2, 27, 39],\n",
       "       [58, 17, 41, 21, 48, 55, 17, 77, 59, 52],\n",
       "       [18,  7, 16, 25, 48, 36, 60, 35, 91, 30],\n",
       "       [82, 12, 23, 16, 47, 19,  8, 56, 45, 79],\n",
       "       [ 3, 91, 25, 68, 76, 93, 98, 15, 29, 28],\n",
       "       [78, 86, 45, 36, 43, 47, 67,  3, 19, 86],\n",
       "       [91, 95, 68, 74, 91, 97, 11, 46,  9, 26],\n",
       "       [82, 22, 90, 42, 63, 51, 75, 12,  4, 83],\n",
       "       [51,  2, 30, 86, 58, 41, 66, 17,  4, 53]])"
      ]
     },
     "execution_count": 29,
     "metadata": {},
     "output_type": "execute_result"
    }
   ],
   "source": [
    "matriz_cuadrada(10)"
   ]
  },
  {
   "cell_type": "markdown",
   "metadata": {},
   "source": [
    "## Exercici 3\n",
    "Crea una funció que donada una taula de dues dimensions, et calculi els totals per fila i els totals per columna."
   ]
  },
  {
   "cell_type": "code",
   "execution_count": 8,
   "metadata": {},
   "outputs": [
    {
     "data": {
      "text/plain": [
       "array([[ 0,  1,  2,  3],\n",
       "       [ 4,  5,  6,  7],\n",
       "       [ 8,  9, 10, 11],\n",
       "       [12, 13, 14, 15],\n",
       "       [16, 17, 18, 19]])"
      ]
     },
     "execution_count": 8,
     "metadata": {},
     "output_type": "execute_result"
    }
   ],
   "source": [
    "tabla=np.arange(20).reshape(5,4)\n",
    "tabla"
   ]
  },
  {
   "cell_type": "code",
   "execution_count": 14,
   "metadata": {},
   "outputs": [
    {
     "name": "stdout",
     "output_type": "stream",
     "text": [
      "[ 6 22 38 54 70]\n",
      "[40 45 50 55]\n"
     ]
    }
   ],
   "source": [
    "suma_filas=tabla.sum(axis=1)\n",
    "suma_columnas=tabla.sum(axis=0)\n",
    "print(suma_filas)\n",
    "print(suma_columnas)"
   ]
  },
  {
   "cell_type": "markdown",
   "metadata": {},
   "source": [
    "## Exercici 4\n",
    "Implementa manualment una funció que calculi el coeficient de correlació. Informa’t-en sobre els seus usos i interpretació."
   ]
  },
  {
   "cell_type": "markdown",
   "metadata": {},
   "source": [
    "El coeficiente de correlación es una medida de la dependencia lineal de dos distribuciones. A diferencia de la covarianza, el coeficiente de correlación no depende de la escala de magnitud de las distribuciones, pudiendo tomar valores entre -1 y 1. Valores próximos a cero indican que apenas existe relación lineal entre las distribuciones, mientras que cuanto más nos acerquemos a 1 o -1 mayor dependencia lineal.\n",
    "\n",
    "Valores positivos indican que la relación es directa, es decir cuando aumenta una variable la otra también. Por otro lado, valores negativos indican una dependencia de tipo inverso, al aumentar una variable la otra disminuye.\n",
    "\n",
    "El coeficiente de regresión se calcula con la siguiente fórmula:\n",
    "\n",
    "$$ coef·R=\\frac{Cov_{XY}}{\\sqrt{Var_X·Var_Y}} $$\n"
   ]
  },
  {
   "cell_type": "code",
   "execution_count": 15,
   "metadata": {},
   "outputs": [],
   "source": [
    "X=np.array([2,3,6,8,10])\n",
    "Y=np.array([4,5,10,11,15])"
   ]
  },
  {
   "cell_type": "code",
   "execution_count": 51,
   "metadata": {},
   "outputs": [],
   "source": [
    "# Función que calcula manualmente el coeficiente R\n",
    "\n",
    "from math import sqrt\n",
    "def coeficiente_R(X,Y):\n",
    "    Varianza_X=((X-X.mean())**2).sum()/len(X)\n",
    "    Varianza_Y=((Y-Y.mean())**2).sum()/len(Y)\n",
    "    Covarianza_XY=((X-X.mean())*(Y-Y.mean())).sum()/len(X)\n",
    "    Coef_R=Covarianza_XY/sqrt(Varianza_X*Varianza_Y)\n",
    "    return Coef_R"
   ]
  },
  {
   "cell_type": "code",
   "execution_count": 50,
   "metadata": {},
   "outputs": [
    {
     "data": {
      "text/plain": [
       "0.9899318950283527"
      ]
     },
     "execution_count": 50,
     "metadata": {},
     "output_type": "execute_result"
    }
   ],
   "source": [
    "coeficiente_R(X,Y)"
   ]
  },
  {
   "cell_type": "code",
   "execution_count": 48,
   "metadata": {},
   "outputs": [
    {
     "data": {
      "text/plain": [
       "array([[1.       , 0.9899319],\n",
       "       [0.9899319, 1.       ]])"
      ]
     },
     "execution_count": 48,
     "metadata": {},
     "output_type": "execute_result"
    }
   ],
   "source": [
    "# Utilizando la función de numpy corrcoef que devuelve matriz de correlación\n",
    "np.corrcoef(X,Y)"
   ]
  },
  {
   "cell_type": "code",
   "execution_count": null,
   "metadata": {},
   "outputs": [],
   "source": []
  }
 ],
 "metadata": {
  "kernelspec": {
   "display_name": "Python 3",
   "language": "python",
   "name": "python3"
  },
  "language_info": {
   "codemirror_mode": {
    "name": "ipython",
    "version": 3
   },
   "file_extension": ".py",
   "mimetype": "text/x-python",
   "name": "python",
   "nbconvert_exporter": "python",
   "pygments_lexer": "ipython3",
   "version": "3.8.5"
  }
 },
 "nbformat": 4,
 "nbformat_minor": 4
}
